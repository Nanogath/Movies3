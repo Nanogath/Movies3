{
 "cells": [
  {
   "cell_type": "markdown",
   "metadata": {},
   "source": [
    "# Movies 3"
   ]
  },
  {
   "cell_type": "markdown",
   "metadata": {},
   "source": [
    "## Introduction\n",
    "\n",
    "Une base de données (hébergée dans le cloud AWS) contenant un certain nombre de données cinématographiques vous est fournie pour exploration et mise en pratique des langages SQL et Python.  \n",
    "Les données de connexion (user, host) sont indiquées dans le brief, le mot de passe nécessaire est précisé en session par le formateur.  \n"
   ]
  },
  {
   "cell_type": "markdown",
   "metadata": {},
   "source": [
    "## 1. Description Générale\n",
    "\n",
    "En utilisant DBeaver et les paramètres de connexion donnés par ailleurs, faire une description détaillée de la base de données fournie. Présenter notamment le diagramme entité - relation (ERD) et les différentes caractéristiques des tables de la base.  Quelles types de renseignement peut-on tirer de cette base de données ?   "
   ]
  },
  {
   "cell_type": "code",
   "execution_count": 1,
   "metadata": {},
   "outputs": [
    {
     "data": {
      "image/png": "[encoded data removed]",
      "text/plain": [
       "<IPython.core.display.Image object>"
      ]
     },
     "execution_count": 1,
     "metadata": {},
     "output_type": "execute_result"
    }
   ],
   "source": [
    "from IPython.display import Image\n",
    "Image(\"C:/Users/utilisateur/simplon/dev-data/Briefs/19-Movies3/Movies3/IMGS/Screenshot_1.png\")"
   ]
  },
  {
   "cell_type": "markdown",
   "metadata": {},
   "source": [
    "En observant le diagramme entité-relation, on peut distinguer quatre tables composant cette base de données. Bien que l'on aurait pu conclure à une base de données SQL par l'utilisation de DBeaver (Un gestionnaire de données relationnelles), on peut tirer la même conclusion en observant sur ce diagramme les associations entre les tables symbolisées par des traits reliant deux tables entre elles.\n",
    "\n",
    "On comprend alors que nous ne sommes pas dans une base NoSQL avec des paires clé-valeures et des clés universelles et artificielles comme identifiant de ces paires mais dans un système relationnel entre les tables rendu possible grâce à des clés primaires et étrangères.\n",
    "\n",
    "la table movies à ses clés primaires sur un attribut \"id\". Elle est reliée à la table roles via une clé étrangère \"movieId\" dans roles. La clé primaire de roles est composée de deux attributs, \"movieId\" et \"actorId\". La table roles est reliée à la table artists via une autre clé étrangère \"actorId\", sur l'attribut \"id\", clé primaire de artists. Cette clé primaire est aussi la référence de \"directorId\", clé étrangère de la table movies. Enfin une seconde clé étrangère se trouve sur la table movies, il s'agit de \"countrycode\", référence à l'attribut \"code\", clé primaire de la table countries."
   ]
  },
  {
   "cell_type": "markdown",
   "metadata": {},
   "source": [
    "---\n",
    "\n",
    "## 2. Exploration SQL via python / pandas\n",
    "Dans cette partie, on s'attache à explorer la base de données en utilisant le language SQL pour les requêtes et le language Python (+ module pandas) pour récupérer les résultats de façon programmatique.  \n",
    "Vous pouvez utiliser DBeaver ou outil similaire pour préparer / tester vos requêtes mais celles-ci doivent être reportées et appliquées dans du code Python comme présenté dans les quelques examples à suivre.  \n",
    "*Pour les résultats \"longs\", un aperçu des quelques premières lignes et le comptage total des résultats est suffisant.*"
   ]
  },
  {
   "cell_type": "code",
   "execution_count": 57,
   "metadata": {},
   "outputs": [],
   "source": [
    "import os\n",
    "import pandas as pd"
   ]
  },
  {
   "cell_type": "code",
   "execution_count": 58,
   "metadata": {},
   "outputs": [],
   "source": [
    "from sqlalchemy import create_engine\n",
    "import pymysql"
   ]
  },
  {
   "cell_type": "code",
   "execution_count": 59,
   "metadata": {},
   "outputs": [],
   "source": [
    "# paramètres de connexion à la base de données movies (MySQL sous AWS RDS)\n",
    "user = os.environ.get('movies3_user')\n",
    "password = os.environ.get('movies3_psw') \n",
    "host = os.environ.get('movies3_host')  \n",
    "port = 3306\n",
    "dbname = 'movies'  \n",
    "\n",
    "engine = create_engine(f\"mysql+pymysql://{user}:{password}@{host}:{port}/{dbname}\")"
   ]
  },
  {
   "cell_type": "markdown",
   "metadata": {},
   "source": [
    "### Exemples"
   ]
  },
  {
   "cell_type": "markdown",
   "metadata": {},
   "source": [
    "#### Tables de base"
   ]
  },
  {
   "cell_type": "code",
   "execution_count": 60,
   "metadata": {},
   "outputs": [
    {
     "data": {
      "text/html": [
       "<div>\n",
       "<style scoped>\n",
       "    .dataframe tbody tr th:only-of-type {\n",
       "        vertical-align: middle;\n",
       "    }\n",
       "\n",
       "    .dataframe tbody tr th {\n",
       "        vertical-align: top;\n",
       "    }\n",
       "\n",
       "    .dataframe thead th {\n",
       "        text-align: right;\n",
       "    }\n",
       "</style>\n",
       "<table border=\"1\" class=\"dataframe\">\n",
       "  <thead>\n",
       "    <tr style=\"text-align: right;\">\n",
       "      <th></th>\n",
       "      <th>id</th>\n",
       "      <th>title</th>\n",
       "      <th>year</th>\n",
       "      <th>directorId</th>\n",
       "      <th>genre</th>\n",
       "      <th>summary</th>\n",
       "      <th>countrycode</th>\n",
       "    </tr>\n",
       "  </thead>\n",
       "  <tbody>\n",
       "    <tr>\n",
       "      <th>0</th>\n",
       "      <td>11</td>\n",
       "      <td>La Guerre des étoiles</td>\n",
       "      <td>1977</td>\n",
       "      <td>1</td>\n",
       "      <td>Aventure</td>\n",
       "      <td>Il y a bien longtemps, dans une galaxie très l...</td>\n",
       "      <td>US</td>\n",
       "    </tr>\n",
       "    <tr>\n",
       "      <th>1</th>\n",
       "      <td>24</td>\n",
       "      <td>Kill Bill : Volume 1</td>\n",
       "      <td>2003</td>\n",
       "      <td>138</td>\n",
       "      <td>Action</td>\n",
       "      <td>Au cours d'une cérémonie de mariage en plein d...</td>\n",
       "      <td>US</td>\n",
       "    </tr>\n",
       "    <tr>\n",
       "      <th>2</th>\n",
       "      <td>28</td>\n",
       "      <td>Apocalypse Now</td>\n",
       "      <td>1979</td>\n",
       "      <td>1776</td>\n",
       "      <td>Drame</td>\n",
       "      <td>L'état-major américain confie au jeune capitai...</td>\n",
       "      <td>US</td>\n",
       "    </tr>\n",
       "    <tr>\n",
       "      <th>3</th>\n",
       "      <td>33</td>\n",
       "      <td>Impitoyable</td>\n",
       "      <td>1992</td>\n",
       "      <td>190</td>\n",
       "      <td>Western</td>\n",
       "      <td>Après avoir été un impitoyable tueur, toujours...</td>\n",
       "      <td>US</td>\n",
       "    </tr>\n",
       "    <tr>\n",
       "      <th>4</th>\n",
       "      <td>38</td>\n",
       "      <td>Eternal Sunshine of the Spotless Mind</td>\n",
       "      <td>2004</td>\n",
       "      <td>201</td>\n",
       "      <td>Science-Fiction</td>\n",
       "      <td>Joël et Clémentine ne voient plus que les mauv...</td>\n",
       "      <td>US</td>\n",
       "    </tr>\n",
       "  </tbody>\n",
       "</table>\n",
       "</div>"
      ],
      "text/plain": [
       "   id                                  title  year  directorId  \\\n",
       "0  11                  La Guerre des étoiles  1977           1   \n",
       "1  24                   Kill Bill : Volume 1  2003         138   \n",
       "2  28                         Apocalypse Now  1979        1776   \n",
       "3  33                            Impitoyable  1992         190   \n",
       "4  38  Eternal Sunshine of the Spotless Mind  2004         201   \n",
       "\n",
       "             genre                                            summary  \\\n",
       "0         Aventure  Il y a bien longtemps, dans une galaxie très l...   \n",
       "1           Action  Au cours d'une cérémonie de mariage en plein d...   \n",
       "2            Drame  L'état-major américain confie au jeune capitai...   \n",
       "3          Western  Après avoir été un impitoyable tueur, toujours...   \n",
       "4  Science-Fiction  Joël et Clémentine ne voient plus que les mauv...   \n",
       "\n",
       "  countrycode  \n",
       "0          US  \n",
       "1          US  \n",
       "2          US  \n",
       "3          US  \n",
       "4          US  "
      ]
     },
     "execution_count": 60,
     "metadata": {},
     "output_type": "execute_result"
    }
   ],
   "source": [
    "movies = pd.read_sql_query(\"SELECT * FROM movies LIMIT 10\", engine)\n",
    "movies.head()"
   ]
  },
  {
   "cell_type": "code",
   "execution_count": 5,
   "metadata": {},
   "outputs": [
    {
     "data": {
      "text/html": [
       "<div>\n",
       "<style scoped>\n",
       "    .dataframe tbody tr th:only-of-type {\n",
       "        vertical-align: middle;\n",
       "    }\n",
       "\n",
       "    .dataframe tbody tr th {\n",
       "        vertical-align: top;\n",
       "    }\n",
       "\n",
       "    .dataframe thead th {\n",
       "        text-align: right;\n",
       "    }\n",
       "</style>\n",
       "<table border=\"1\" class=\"dataframe\">\n",
       "  <thead>\n",
       "    <tr style=\"text-align: right;\">\n",
       "      <th></th>\n",
       "      <th>id</th>\n",
       "      <th>lastname</th>\n",
       "      <th>firstname</th>\n",
       "      <th>birthyear</th>\n",
       "    </tr>\n",
       "  </thead>\n",
       "  <tbody>\n",
       "    <tr>\n",
       "      <th>0</th>\n",
       "      <td>1</td>\n",
       "      <td>Lucas</td>\n",
       "      <td>George</td>\n",
       "      <td>1944</td>\n",
       "    </tr>\n",
       "    <tr>\n",
       "      <th>1</th>\n",
       "      <td>2</td>\n",
       "      <td>Hamill</td>\n",
       "      <td>Mark</td>\n",
       "      <td>1951</td>\n",
       "    </tr>\n",
       "    <tr>\n",
       "      <th>2</th>\n",
       "      <td>3</td>\n",
       "      <td>Ford</td>\n",
       "      <td>Harrison</td>\n",
       "      <td>1942</td>\n",
       "    </tr>\n",
       "    <tr>\n",
       "      <th>3</th>\n",
       "      <td>4</td>\n",
       "      <td>Fisher</td>\n",
       "      <td>Carrie</td>\n",
       "      <td>1956</td>\n",
       "    </tr>\n",
       "    <tr>\n",
       "      <th>4</th>\n",
       "      <td>5</td>\n",
       "      <td>Cushing</td>\n",
       "      <td>Peter</td>\n",
       "      <td>1913</td>\n",
       "    </tr>\n",
       "  </tbody>\n",
       "</table>\n",
       "</div>"
      ],
      "text/plain": [
       "   id lastname firstname  birthyear\n",
       "0   1    Lucas    George       1944\n",
       "1   2   Hamill      Mark       1951\n",
       "2   3     Ford  Harrison       1942\n",
       "3   4   Fisher    Carrie       1956\n",
       "4   5  Cushing     Peter       1913"
      ]
     },
     "execution_count": 5,
     "metadata": {},
     "output_type": "execute_result"
    }
   ],
   "source": [
    "artists = pd.read_sql_query(\"SELECT * FROM artists LIMIT 10\", engine)\n",
    "artists.head()"
   ]
  },
  {
   "cell_type": "code",
   "execution_count": 6,
   "metadata": {},
   "outputs": [
    {
     "data": {
      "text/html": [
       "<div>\n",
       "<style scoped>\n",
       "    .dataframe tbody tr th:only-of-type {\n",
       "        vertical-align: middle;\n",
       "    }\n",
       "\n",
       "    .dataframe tbody tr th {\n",
       "        vertical-align: top;\n",
       "    }\n",
       "\n",
       "    .dataframe thead th {\n",
       "        text-align: right;\n",
       "    }\n",
       "</style>\n",
       "<table border=\"1\" class=\"dataframe\">\n",
       "  <thead>\n",
       "    <tr style=\"text-align: right;\">\n",
       "      <th></th>\n",
       "      <th>movieId</th>\n",
       "      <th>actorId</th>\n",
       "      <th>character</th>\n",
       "    </tr>\n",
       "  </thead>\n",
       "  <tbody>\n",
       "    <tr>\n",
       "      <th>0</th>\n",
       "      <td>11</td>\n",
       "      <td>2</td>\n",
       "      <td>Luke Skywalker</td>\n",
       "    </tr>\n",
       "    <tr>\n",
       "      <th>1</th>\n",
       "      <td>1891</td>\n",
       "      <td>2</td>\n",
       "      <td>Luke Skywalker</td>\n",
       "    </tr>\n",
       "    <tr>\n",
       "      <th>2</th>\n",
       "      <td>1892</td>\n",
       "      <td>2</td>\n",
       "      <td>Luke Skywalker</td>\n",
       "    </tr>\n",
       "    <tr>\n",
       "      <th>3</th>\n",
       "      <td>181808</td>\n",
       "      <td>2</td>\n",
       "      <td>Luke Skywalker / Dobbu Scay (voice)</td>\n",
       "    </tr>\n",
       "    <tr>\n",
       "      <th>4</th>\n",
       "      <td>11</td>\n",
       "      <td>3</td>\n",
       "      <td>Han Solo</td>\n",
       "    </tr>\n",
       "  </tbody>\n",
       "</table>\n",
       "</div>"
      ],
      "text/plain": [
       "   movieId  actorId                            character\n",
       "0       11        2                       Luke Skywalker\n",
       "1     1891        2                       Luke Skywalker\n",
       "2     1892        2                       Luke Skywalker\n",
       "3   181808        2  Luke Skywalker / Dobbu Scay (voice)\n",
       "4       11        3                             Han Solo"
      ]
     },
     "execution_count": 6,
     "metadata": {},
     "output_type": "execute_result"
    }
   ],
   "source": [
    "roles = pd.read_sql_query(\"SELECT * FROM roles LIMIT 10\", engine)\n",
    "roles.head()"
   ]
  },
  {
   "cell_type": "code",
   "execution_count": 7,
   "metadata": {},
   "outputs": [
    {
     "data": {
      "text/html": [
       "<div>\n",
       "<style scoped>\n",
       "    .dataframe tbody tr th:only-of-type {\n",
       "        vertical-align: middle;\n",
       "    }\n",
       "\n",
       "    .dataframe tbody tr th {\n",
       "        vertical-align: top;\n",
       "    }\n",
       "\n",
       "    .dataframe thead th {\n",
       "        text-align: right;\n",
       "    }\n",
       "</style>\n",
       "<table border=\"1\" class=\"dataframe\">\n",
       "  <thead>\n",
       "    <tr style=\"text-align: right;\">\n",
       "      <th></th>\n",
       "      <th>code</th>\n",
       "      <th>name</th>\n",
       "      <th>language</th>\n",
       "    </tr>\n",
       "  </thead>\n",
       "  <tbody>\n",
       "    <tr>\n",
       "      <th>0</th>\n",
       "      <td>AU</td>\n",
       "      <td>Australia</td>\n",
       "      <td></td>\n",
       "    </tr>\n",
       "    <tr>\n",
       "      <th>1</th>\n",
       "      <td>BE</td>\n",
       "      <td>Belgium</td>\n",
       "      <td></td>\n",
       "    </tr>\n",
       "    <tr>\n",
       "      <th>2</th>\n",
       "      <td>BS</td>\n",
       "      <td>Bahamas</td>\n",
       "      <td></td>\n",
       "    </tr>\n",
       "    <tr>\n",
       "      <th>3</th>\n",
       "      <td>CA</td>\n",
       "      <td>Canada</td>\n",
       "      <td></td>\n",
       "    </tr>\n",
       "    <tr>\n",
       "      <th>4</th>\n",
       "      <td>CN</td>\n",
       "      <td>China</td>\n",
       "      <td></td>\n",
       "    </tr>\n",
       "  </tbody>\n",
       "</table>\n",
       "</div>"
      ],
      "text/plain": [
       "  code       name language\n",
       "0   AU  Australia         \n",
       "1   BE    Belgium         \n",
       "2   BS    Bahamas         \n",
       "3   CA     Canada         \n",
       "4   CN      China         "
      ]
     },
     "execution_count": 7,
     "metadata": {},
     "output_type": "execute_result"
    }
   ],
   "source": [
    "countries = pd.read_sql_query(\"SELECT * FROM countries LIMIT 10\", engine)\n",
    "countries.head()"
   ]
  },
  {
   "cell_type": "markdown",
   "metadata": {},
   "source": [
    "#### Autre requête simple\n",
    "Q00: Nom et année de naissance des artistes nés après 1975 ? Combien sont-ils ?"
   ]
  },
  {
   "cell_type": "code",
   "execution_count": 8,
   "metadata": {},
   "outputs": [
    {
     "data": {
      "text/html": [
       "<div>\n",
       "<style scoped>\n",
       "    .dataframe tbody tr th:only-of-type {\n",
       "        vertical-align: middle;\n",
       "    }\n",
       "\n",
       "    .dataframe tbody tr th {\n",
       "        vertical-align: top;\n",
       "    }\n",
       "\n",
       "    .dataframe thead th {\n",
       "        text-align: right;\n",
       "    }\n",
       "</style>\n",
       "<table border=\"1\" class=\"dataframe\">\n",
       "  <thead>\n",
       "    <tr style=\"text-align: right;\">\n",
       "      <th></th>\n",
       "      <th>id</th>\n",
       "      <th>lastname</th>\n",
       "      <th>firstname</th>\n",
       "      <th>birthyear</th>\n",
       "    </tr>\n",
       "  </thead>\n",
       "  <tbody>\n",
       "    <tr>\n",
       "      <th>0</th>\n",
       "      <td>131</td>\n",
       "      <td>Gyllenhaal</td>\n",
       "      <td>Jake</td>\n",
       "      <td>1980</td>\n",
       "    </tr>\n",
       "    <tr>\n",
       "      <th>1</th>\n",
       "      <td>205</td>\n",
       "      <td>Dunst</td>\n",
       "      <td>Kirsten</td>\n",
       "      <td>1982</td>\n",
       "    </tr>\n",
       "    <tr>\n",
       "      <th>2</th>\n",
       "      <td>225</td>\n",
       "      <td>Holmes</td>\n",
       "      <td>Ashton</td>\n",
       "      <td>1978</td>\n",
       "    </tr>\n",
       "    <tr>\n",
       "      <th>3</th>\n",
       "      <td>258</td>\n",
       "      <td>García Bernal</td>\n",
       "      <td>Gael</td>\n",
       "      <td>1978</td>\n",
       "    </tr>\n",
       "    <tr>\n",
       "      <th>4</th>\n",
       "      <td>368</td>\n",
       "      <td>Witherspoon</td>\n",
       "      <td>Reese</td>\n",
       "      <td>1976</td>\n",
       "    </tr>\n",
       "  </tbody>\n",
       "</table>\n",
       "</div>"
      ],
      "text/plain": [
       "    id       lastname firstname  birthyear\n",
       "0  131     Gyllenhaal      Jake       1980\n",
       "1  205          Dunst   Kirsten       1982\n",
       "2  225         Holmes    Ashton       1978\n",
       "3  258  García Bernal      Gael       1978\n",
       "4  368    Witherspoon     Reese       1976"
      ]
     },
     "execution_count": 8,
     "metadata": {},
     "output_type": "execute_result"
    }
   ],
   "source": [
    "sql_query_00 = \"\"\"\n",
    "    SELECT *\n",
    "    FROM artists\n",
    "    WHERE birthyear > 1975\n",
    "\"\"\"\n",
    "\n",
    "results = pd.read_sql_query(sql_query_00, engine)\n",
    "results.head(5)"
   ]
  },
  {
   "cell_type": "code",
   "execution_count": 9,
   "metadata": {},
   "outputs": [
    {
     "data": {
      "text/plain": [
       "(118, 4)"
      ]
     },
     "execution_count": 9,
     "metadata": {},
     "output_type": "execute_result"
    }
   ],
   "source": [
    "results.shape"
   ]
  },
  {
   "cell_type": "code",
   "execution_count": 10,
   "metadata": {},
   "outputs": [
    {
     "data": {
      "text/plain": [
       "118"
      ]
     },
     "execution_count": 10,
     "metadata": {},
     "output_type": "execute_result"
    }
   ],
   "source": [
    "len(results)"
   ]
  },
  {
   "cell_type": "markdown",
   "metadata": {},
   "source": [
    "### Questions"
   ]
  },
  {
   "cell_type": "markdown",
   "metadata": {},
   "source": [
    "Q01: Quels sont les films de type 'Drame' ? Combien cela représente de films ?  "
   ]
  },
  {
   "cell_type": "code",
   "execution_count": 22,
   "metadata": {},
   "outputs": [
    {
     "data": {
      "text/html": [
       "<div>\n",
       "<style scoped>\n",
       "    .dataframe tbody tr th:only-of-type {\n",
       "        vertical-align: middle;\n",
       "    }\n",
       "\n",
       "    .dataframe tbody tr th {\n",
       "        vertical-align: top;\n",
       "    }\n",
       "\n",
       "    .dataframe thead th {\n",
       "        text-align: right;\n",
       "    }\n",
       "</style>\n",
       "<table border=\"1\" class=\"dataframe\">\n",
       "  <thead>\n",
       "    <tr style=\"text-align: right;\">\n",
       "      <th></th>\n",
       "      <th>id</th>\n",
       "      <th>title</th>\n",
       "      <th>year</th>\n",
       "      <th>directorId</th>\n",
       "      <th>genre</th>\n",
       "      <th>summary</th>\n",
       "      <th>countrycode</th>\n",
       "    </tr>\n",
       "  </thead>\n",
       "  <tbody>\n",
       "    <tr>\n",
       "      <th>0</th>\n",
       "      <td>28</td>\n",
       "      <td>Apocalypse Now</td>\n",
       "      <td>1979</td>\n",
       "      <td>1776</td>\n",
       "      <td>Drame</td>\n",
       "      <td>L'état-major américain confie au jeune capitai...</td>\n",
       "      <td>US</td>\n",
       "    </tr>\n",
       "    <tr>\n",
       "      <th>1</th>\n",
       "      <td>59</td>\n",
       "      <td>A History of Violence</td>\n",
       "      <td>2005</td>\n",
       "      <td>224</td>\n",
       "      <td>Drame</td>\n",
       "      <td>Tom Stall, un père de famille à la vie paisibl...</td>\n",
       "      <td>US</td>\n",
       "    </tr>\n",
       "    <tr>\n",
       "      <th>2</th>\n",
       "      <td>116</td>\n",
       "      <td>Match point</td>\n",
       "      <td>2005</td>\n",
       "      <td>1243</td>\n",
       "      <td>Drame</td>\n",
       "      <td>Jeune professeur de tennis issu d'un milieu mo...</td>\n",
       "      <td>US</td>\n",
       "    </tr>\n",
       "    <tr>\n",
       "      <th>3</th>\n",
       "      <td>142</td>\n",
       "      <td>Le Secret de Brokeback Mountain</td>\n",
       "      <td>2005</td>\n",
       "      <td>1614</td>\n",
       "      <td>Drame</td>\n",
       "      <td>Eté 1963, Wyoming.Deux jeunes cow-boys, Jack e...</td>\n",
       "      <td>CA</td>\n",
       "    </tr>\n",
       "    <tr>\n",
       "      <th>4</th>\n",
       "      <td>145</td>\n",
       "      <td>Breaking the Waves</td>\n",
       "      <td>1996</td>\n",
       "      <td>42</td>\n",
       "      <td>Drame</td>\n",
       "      <td>Au début des années soixante-dix sur la côte n...</td>\n",
       "      <td>DK</td>\n",
       "    </tr>\n",
       "  </tbody>\n",
       "</table>\n",
       "</div>"
      ],
      "text/plain": [
       "    id                            title  year  directorId  genre  \\\n",
       "0   28                   Apocalypse Now  1979        1776  Drame   \n",
       "1   59            A History of Violence  2005         224  Drame   \n",
       "2  116                      Match point  2005        1243  Drame   \n",
       "3  142  Le Secret de Brokeback Mountain  2005        1614  Drame   \n",
       "4  145               Breaking the Waves  1996          42  Drame   \n",
       "\n",
       "                                             summary countrycode  \n",
       "0  L'état-major américain confie au jeune capitai...          US  \n",
       "1  Tom Stall, un père de famille à la vie paisibl...          US  \n",
       "2  Jeune professeur de tennis issu d'un milieu mo...          US  \n",
       "3  Eté 1963, Wyoming.Deux jeunes cow-boys, Jack e...          CA  \n",
       "4  Au début des années soixante-dix sur la côte n...          DK  "
      ]
     },
     "execution_count": 22,
     "metadata": {},
     "output_type": "execute_result"
    }
   ],
   "source": [
    "Q1 = pd.read_sql_query(\"SELECT * FROM movies WHERE genre = 'drame' \", engine)\n",
    "Q1.head()\n"
   ]
  },
  {
   "cell_type": "code",
   "execution_count": 23,
   "metadata": {},
   "outputs": [
    {
     "data": {
      "text/plain": [
       "(83, 7)"
      ]
     },
     "execution_count": 23,
     "metadata": {},
     "output_type": "execute_result"
    }
   ],
   "source": [
    "drames.shape"
   ]
  },
  {
   "cell_type": "code",
   "execution_count": 24,
   "metadata": {},
   "outputs": [
    {
     "data": {
      "text/plain": [
       "83"
      ]
     },
     "execution_count": 24,
     "metadata": {},
     "output_type": "execute_result"
    }
   ],
   "source": [
    "len(drames)"
   ]
  },
  {
   "cell_type": "markdown",
   "metadata": {},
   "source": [
    "Q02: Quels rôles a joué Bruce Willis et dans quels films (triés par ordre chronologique) ?"
   ]
  },
  {
   "cell_type": "code",
   "execution_count": 43,
   "metadata": {},
   "outputs": [
    {
     "data": {
      "text/html": [
       "<div>\n",
       "<style scoped>\n",
       "    .dataframe tbody tr th:only-of-type {\n",
       "        vertical-align: middle;\n",
       "    }\n",
       "\n",
       "    .dataframe tbody tr th {\n",
       "        vertical-align: top;\n",
       "    }\n",
       "\n",
       "    .dataframe thead th {\n",
       "        text-align: right;\n",
       "    }\n",
       "</style>\n",
       "<table border=\"1\" class=\"dataframe\">\n",
       "  <thead>\n",
       "    <tr style=\"text-align: right;\">\n",
       "      <th></th>\n",
       "      <th>id</th>\n",
       "      <th>title</th>\n",
       "      <th>year</th>\n",
       "      <th>directorId</th>\n",
       "      <th>genre</th>\n",
       "      <th>summary</th>\n",
       "      <th>countrycode</th>\n",
       "      <th>movieId</th>\n",
       "      <th>actorId</th>\n",
       "      <th>character</th>\n",
       "      <th>id</th>\n",
       "      <th>lastname</th>\n",
       "      <th>firstname</th>\n",
       "      <th>birthyear</th>\n",
       "    </tr>\n",
       "  </thead>\n",
       "  <tbody>\n",
       "    <tr>\n",
       "      <th>0</th>\n",
       "      <td>562</td>\n",
       "      <td>Piège de cristal</td>\n",
       "      <td>1988</td>\n",
       "      <td>1090</td>\n",
       "      <td>Action</td>\n",
       "      <td>John McClane, policier new-yorkais, est venu r...</td>\n",
       "      <td>US</td>\n",
       "      <td>562</td>\n",
       "      <td>62</td>\n",
       "      <td>John McClane</td>\n",
       "      <td>62</td>\n",
       "      <td>Willis</td>\n",
       "      <td>Bruce</td>\n",
       "      <td>1955</td>\n",
       "    </tr>\n",
       "    <tr>\n",
       "      <th>1</th>\n",
       "      <td>1573</td>\n",
       "      <td>58 minutes pour vivre</td>\n",
       "      <td>1990</td>\n",
       "      <td>16938</td>\n",
       "      <td>Action</td>\n",
       "      <td>L'inspecteur de police McClane attend que l'av...</td>\n",
       "      <td>US</td>\n",
       "      <td>1573</td>\n",
       "      <td>62</td>\n",
       "      <td>John McClane</td>\n",
       "      <td>62</td>\n",
       "      <td>Willis</td>\n",
       "      <td>Bruce</td>\n",
       "      <td>1955</td>\n",
       "    </tr>\n",
       "    <tr>\n",
       "      <th>2</th>\n",
       "      <td>680</td>\n",
       "      <td>Pulp Fiction</td>\n",
       "      <td>1994</td>\n",
       "      <td>138</td>\n",
       "      <td>Thriller</td>\n",
       "      <td>L'odyssée sanglante et burlesque de petits mal...</td>\n",
       "      <td>US</td>\n",
       "      <td>680</td>\n",
       "      <td>62</td>\n",
       "      <td>Butch Coolidge</td>\n",
       "      <td>62</td>\n",
       "      <td>Willis</td>\n",
       "      <td>Bruce</td>\n",
       "      <td>1955</td>\n",
       "    </tr>\n",
       "    <tr>\n",
       "      <th>3</th>\n",
       "      <td>1572</td>\n",
       "      <td>Une Journée en enfer</td>\n",
       "      <td>1995</td>\n",
       "      <td>1090</td>\n",
       "      <td>Action</td>\n",
       "      <td>Décidément, John McLane ne peut jamais avoir l...</td>\n",
       "      <td>US</td>\n",
       "      <td>1572</td>\n",
       "      <td>62</td>\n",
       "      <td>John McClane</td>\n",
       "      <td>62</td>\n",
       "      <td>Willis</td>\n",
       "      <td>Bruce</td>\n",
       "      <td>1955</td>\n",
       "    </tr>\n",
       "    <tr>\n",
       "      <th>4</th>\n",
       "      <td>1571</td>\n",
       "      <td>Die Hard 4 : Retour en enfer</td>\n",
       "      <td>2007</td>\n",
       "      <td>3950</td>\n",
       "      <td>Action</td>\n",
       "      <td>Pour sa quatrième aventure, l'inspecteur John ...</td>\n",
       "      <td>GB</td>\n",
       "      <td>1571</td>\n",
       "      <td>62</td>\n",
       "      <td>John McClane</td>\n",
       "      <td>62</td>\n",
       "      <td>Willis</td>\n",
       "      <td>Bruce</td>\n",
       "      <td>1955</td>\n",
       "    </tr>\n",
       "  </tbody>\n",
       "</table>\n",
       "</div>"
      ],
      "text/plain": [
       "     id                         title  year  directorId     genre  \\\n",
       "0   562              Piège de cristal  1988        1090    Action   \n",
       "1  1573         58 minutes pour vivre  1990       16938    Action   \n",
       "2   680                  Pulp Fiction  1994         138  Thriller   \n",
       "3  1572          Une Journée en enfer  1995        1090    Action   \n",
       "4  1571  Die Hard 4 : Retour en enfer  2007        3950    Action   \n",
       "\n",
       "                                             summary countrycode  movieId  \\\n",
       "0  John McClane, policier new-yorkais, est venu r...          US      562   \n",
       "1  L'inspecteur de police McClane attend que l'av...          US     1573   \n",
       "2  L'odyssée sanglante et burlesque de petits mal...          US      680   \n",
       "3  Décidément, John McLane ne peut jamais avoir l...          US     1572   \n",
       "4  Pour sa quatrième aventure, l'inspecteur John ...          GB     1571   \n",
       "\n",
       "   actorId       character  id lastname firstname  birthyear  \n",
       "0       62    John McClane  62   Willis     Bruce       1955  \n",
       "1       62    John McClane  62   Willis     Bruce       1955  \n",
       "2       62  Butch Coolidge  62   Willis     Bruce       1955  \n",
       "3       62    John McClane  62   Willis     Bruce       1955  \n",
       "4       62    John McClane  62   Willis     Bruce       1955  "
      ]
     },
     "execution_count": 43,
     "metadata": {},
     "output_type": "execute_result"
    }
   ],
   "source": [
    "sql_query_02 = \"\"\"\n",
    "    SELECT *\n",
    "    FROM movies\n",
    "    INNER JOIN roles\n",
    "        ON movies.id = roles.movieId\n",
    "    INNER JOIN artists\n",
    "        ON roles.actorId = artists.id\n",
    "    WHERE lastname = 'Willis'\n",
    "    ORDER BY year;\n",
    "\"\"\"\n",
    "\n",
    "Q2 = pd.read_sql_query(sql_query_02, engine)\n",
    "Q2.head()"
   ]
  },
  {
   "cell_type": "code",
   "execution_count": 27,
   "metadata": {},
   "outputs": [
    {
     "data": {
      "text/plain": [
       "(5, 14)"
      ]
     },
     "execution_count": 27,
     "metadata": {},
     "output_type": "execute_result"
    }
   ],
   "source": [
    "Q2.shape"
   ]
  },
  {
   "cell_type": "code",
   "execution_count": 28,
   "metadata": {},
   "outputs": [
    {
     "data": {
      "text/plain": [
       "5"
      ]
     },
     "execution_count": 28,
     "metadata": {},
     "output_type": "execute_result"
    }
   ],
   "source": [
    "len(Q2)"
   ]
  },
  {
   "cell_type": "markdown",
   "metadata": {},
   "source": [
    "Q03: Qui est le réalisateur de Memento ?"
   ]
  },
  {
   "cell_type": "code",
   "execution_count": 53,
   "metadata": {},
   "outputs": [
    {
     "data": {
      "text/html": [
       "<div>\n",
       "<style scoped>\n",
       "    .dataframe tbody tr th:only-of-type {\n",
       "        vertical-align: middle;\n",
       "    }\n",
       "\n",
       "    .dataframe tbody tr th {\n",
       "        vertical-align: top;\n",
       "    }\n",
       "\n",
       "    .dataframe thead th {\n",
       "        text-align: right;\n",
       "    }\n",
       "</style>\n",
       "<table border=\"1\" class=\"dataframe\">\n",
       "  <thead>\n",
       "    <tr style=\"text-align: right;\">\n",
       "      <th></th>\n",
       "      <th>lastname</th>\n",
       "      <th>firstname</th>\n",
       "    </tr>\n",
       "  </thead>\n",
       "  <tbody>\n",
       "    <tr>\n",
       "      <th>0</th>\n",
       "      <td>Nolan</td>\n",
       "      <td>Christopher</td>\n",
       "    </tr>\n",
       "  </tbody>\n",
       "</table>\n",
       "</div>"
      ],
      "text/plain": [
       "  lastname    firstname\n",
       "0    Nolan  Christopher"
      ]
     },
     "execution_count": 53,
     "metadata": {},
     "output_type": "execute_result"
    }
   ],
   "source": [
    "sql_query_03 = \"\"\"\n",
    "    SELECT lastname, firstname\n",
    "    FROM movies\n",
    "    INNER JOIN artists\n",
    "        ON movies.directorId = artists.id\n",
    "    WHERE title = 'Memento';\n",
    "\"\"\"\n",
    "\n",
    "Q3 = pd.read_sql_query(sql_query_03, engine)\n",
    "Q3.head()"
   ]
  },
  {
   "cell_type": "markdown",
   "metadata": {},
   "source": [
    "Q04: Qui a joué le rôle de Chewbacca et dans quels films ?"
   ]
  },
  {
   "cell_type": "code",
   "execution_count": 64,
   "metadata": {},
   "outputs": [
    {
     "data": {
      "text/html": [
       "<div>\n",
       "<style scoped>\n",
       "    .dataframe tbody tr th:only-of-type {\n",
       "        vertical-align: middle;\n",
       "    }\n",
       "\n",
       "    .dataframe tbody tr th {\n",
       "        vertical-align: top;\n",
       "    }\n",
       "\n",
       "    .dataframe thead th {\n",
       "        text-align: right;\n",
       "    }\n",
       "</style>\n",
       "<table border=\"1\" class=\"dataframe\">\n",
       "  <thead>\n",
       "    <tr style=\"text-align: right;\">\n",
       "      <th></th>\n",
       "      <th>lastname</th>\n",
       "      <th>firstname</th>\n",
       "      <th>title</th>\n",
       "    </tr>\n",
       "  </thead>\n",
       "  <tbody>\n",
       "    <tr>\n",
       "      <th>0</th>\n",
       "      <td>Mayhew</td>\n",
       "      <td>Peter</td>\n",
       "      <td>La Guerre des étoiles</td>\n",
       "    </tr>\n",
       "    <tr>\n",
       "      <th>1</th>\n",
       "      <td>Mayhew</td>\n",
       "      <td>Peter</td>\n",
       "      <td>L'Empire contre-attaque</td>\n",
       "    </tr>\n",
       "    <tr>\n",
       "      <th>2</th>\n",
       "      <td>Mayhew</td>\n",
       "      <td>Peter</td>\n",
       "      <td>Le Retour du Jedi</td>\n",
       "    </tr>\n",
       "    <tr>\n",
       "      <th>3</th>\n",
       "      <td>Mayhew</td>\n",
       "      <td>Peter</td>\n",
       "      <td>Star Wars : Le Réveil de la Force</td>\n",
       "    </tr>\n",
       "    <tr>\n",
       "      <th>4</th>\n",
       "      <td>Suotamo</td>\n",
       "      <td>Joonas</td>\n",
       "      <td>Star Wars : Les Derniers Jedi</td>\n",
       "    </tr>\n",
       "  </tbody>\n",
       "</table>\n",
       "</div>"
      ],
      "text/plain": [
       "  lastname firstname                              title\n",
       "0   Mayhew     Peter              La Guerre des étoiles\n",
       "1   Mayhew     Peter            L'Empire contre-attaque\n",
       "2   Mayhew     Peter                  Le Retour du Jedi\n",
       "3   Mayhew     Peter  Star Wars : Le Réveil de la Force\n",
       "4  Suotamo    Joonas      Star Wars : Les Derniers Jedi"
      ]
     },
     "execution_count": 64,
     "metadata": {},
     "output_type": "execute_result"
    }
   ],
   "source": [
    "sql_query_04 = \"\"\"\n",
    "    SELECT lastname, firstname, title\n",
    "    FROM movies\n",
    "    INNER JOIN roles\n",
    "        ON movies.id = roles.movieId\n",
    "    INNER JOIN artists\n",
    "        ON roles.actorId = artists.id\n",
    "    WHERE roles.character = 'Chewbacca';\n",
    "\"\"\"\n",
    "\n",
    "Q4 = pd.read_sql_query(sql_query_04, engine)\n",
    "Q4.head()"
   ]
  },
  {
   "cell_type": "code",
   "execution_count": 65,
   "metadata": {},
   "outputs": [
    {
     "data": {
      "text/plain": [
       "(5, 3)"
      ]
     },
     "execution_count": 65,
     "metadata": {},
     "output_type": "execute_result"
    }
   ],
   "source": [
    "Q4.shape"
   ]
  },
  {
   "cell_type": "code",
   "execution_count": 66,
   "metadata": {},
   "outputs": [
    {
     "data": {
      "text/plain": [
       "5"
      ]
     },
     "execution_count": 66,
     "metadata": {},
     "output_type": "execute_result"
    }
   ],
   "source": [
    "len(Q4)"
   ]
  },
  {
   "cell_type": "markdown",
   "metadata": {},
   "source": [
    "Q05: Dans quels films Bruce Willis a-t-il joué le role de John McClane ? "
   ]
  },
  {
   "cell_type": "code",
   "execution_count": 68,
   "metadata": {},
   "outputs": [
    {
     "data": {
      "text/html": [
       "<div>\n",
       "<style scoped>\n",
       "    .dataframe tbody tr th:only-of-type {\n",
       "        vertical-align: middle;\n",
       "    }\n",
       "\n",
       "    .dataframe tbody tr th {\n",
       "        vertical-align: top;\n",
       "    }\n",
       "\n",
       "    .dataframe thead th {\n",
       "        text-align: right;\n",
       "    }\n",
       "</style>\n",
       "<table border=\"1\" class=\"dataframe\">\n",
       "  <thead>\n",
       "    <tr style=\"text-align: right;\">\n",
       "      <th></th>\n",
       "      <th>title</th>\n",
       "    </tr>\n",
       "  </thead>\n",
       "  <tbody>\n",
       "    <tr>\n",
       "      <th>0</th>\n",
       "      <td>Piège de cristal</td>\n",
       "    </tr>\n",
       "    <tr>\n",
       "      <th>1</th>\n",
       "      <td>Die Hard 4 : Retour en enfer</td>\n",
       "    </tr>\n",
       "    <tr>\n",
       "      <th>2</th>\n",
       "      <td>Une Journée en enfer</td>\n",
       "    </tr>\n",
       "    <tr>\n",
       "      <th>3</th>\n",
       "      <td>58 minutes pour vivre</td>\n",
       "    </tr>\n",
       "  </tbody>\n",
       "</table>\n",
       "</div>"
      ],
      "text/plain": [
       "                          title\n",
       "0              Piège de cristal\n",
       "1  Die Hard 4 : Retour en enfer\n",
       "2          Une Journée en enfer\n",
       "3         58 minutes pour vivre"
      ]
     },
     "execution_count": 68,
     "metadata": {},
     "output_type": "execute_result"
    }
   ],
   "source": [
    "sql_query_05 = \"\"\"\n",
    "    SELECT title\n",
    "    FROM movies\n",
    "    INNER JOIN roles\n",
    "        ON movies.id = roles.movieId\n",
    "    INNER JOIN artists\n",
    "        ON roles.actorId = artists.id\n",
    "    WHERE roles.character = 'John McClane' AND artists.lastname = 'Willis' AND artists.firstname = 'Bruce';\n",
    "\"\"\"\n",
    "\n",
    "Q5 = pd.read_sql_query(sql_query_05, engine)\n",
    "Q5.head()"
   ]
  },
  {
   "cell_type": "markdown",
   "metadata": {},
   "source": [
    "Q06: Quels sont les acteurs de 'Sueurs froides' ?"
   ]
  },
  {
   "cell_type": "code",
   "execution_count": 70,
   "metadata": {},
   "outputs": [
    {
     "data": {
      "text/html": [
       "<div>\n",
       "<style scoped>\n",
       "    .dataframe tbody tr th:only-of-type {\n",
       "        vertical-align: middle;\n",
       "    }\n",
       "\n",
       "    .dataframe tbody tr th {\n",
       "        vertical-align: top;\n",
       "    }\n",
       "\n",
       "    .dataframe thead th {\n",
       "        text-align: right;\n",
       "    }\n",
       "</style>\n",
       "<table border=\"1\" class=\"dataframe\">\n",
       "  <thead>\n",
       "    <tr style=\"text-align: right;\">\n",
       "      <th></th>\n",
       "      <th>lastname</th>\n",
       "      <th>firstname</th>\n",
       "    </tr>\n",
       "  </thead>\n",
       "  <tbody>\n",
       "    <tr>\n",
       "      <th>0</th>\n",
       "      <td>Stewart</td>\n",
       "      <td>James</td>\n",
       "    </tr>\n",
       "    <tr>\n",
       "      <th>1</th>\n",
       "      <td>Novak</td>\n",
       "      <td>Kim</td>\n",
       "    </tr>\n",
       "    <tr>\n",
       "      <th>2</th>\n",
       "      <td>Bel Geddes</td>\n",
       "      <td>Barbara</td>\n",
       "    </tr>\n",
       "  </tbody>\n",
       "</table>\n",
       "</div>"
      ],
      "text/plain": [
       "     lastname firstname\n",
       "0     Stewart     James\n",
       "1       Novak       Kim\n",
       "2  Bel Geddes   Barbara"
      ]
     },
     "execution_count": 70,
     "metadata": {},
     "output_type": "execute_result"
    }
   ],
   "source": [
    "sql_query_06 = '''\n",
    "    SELECT lastname, firstname\n",
    "    FROM artists\n",
    "    INNER JOIN roles\n",
    "        ON artists.id = roles.actorId\n",
    "    INNER JOIN movies\n",
    "        ON roles.movieId = movies.id\n",
    "    WHERE movies.title = 'Sueurs froides';\n",
    "'''\n",
    "\n",
    "Q6 = pd.read_sql_query(sql_query_06, engine)\n",
    "Q6.head()"
   ]
  },
  {
   "cell_type": "markdown",
   "metadata": {},
   "source": [
    "Q07: Quels sont les films dont le réalisateur est Tim Burton, et l’un des acteurs Jonnhy Depp ?"
   ]
  },
  {
   "cell_type": "code",
   "execution_count": 84,
   "metadata": {},
   "outputs": [
    {
     "data": {
      "text/html": [
       "<div>\n",
       "<style scoped>\n",
       "    .dataframe tbody tr th:only-of-type {\n",
       "        vertical-align: middle;\n",
       "    }\n",
       "\n",
       "    .dataframe tbody tr th {\n",
       "        vertical-align: top;\n",
       "    }\n",
       "\n",
       "    .dataframe thead th {\n",
       "        text-align: right;\n",
       "    }\n",
       "</style>\n",
       "<table border=\"1\" class=\"dataframe\">\n",
       "  <thead>\n",
       "    <tr style=\"text-align: right;\">\n",
       "      <th></th>\n",
       "      <th>title</th>\n",
       "    </tr>\n",
       "  </thead>\n",
       "  <tbody>\n",
       "    <tr>\n",
       "      <th>0</th>\n",
       "      <td>Sleepy Hollow, La Légende du cavalier sans tête</td>\n",
       "    </tr>\n",
       "  </tbody>\n",
       "</table>\n",
       "</div>"
      ],
      "text/plain": [
       "                                             title\n",
       "0  Sleepy Hollow, La Légende du cavalier sans tête"
      ]
     },
     "execution_count": 84,
     "metadata": {},
     "output_type": "execute_result"
    }
   ],
   "source": [
    "sql_query_07 = '''\n",
    "    SELECT title \n",
    "    FROM movies\n",
    "    INNER JOIN artists\n",
    "        ON movies.directorId = artists.id\n",
    "    WHERE lastname = \"Burton\"\n",
    "UNION\n",
    "    SELECT title\n",
    "    FROM movies\n",
    "    INNER JOIN roles \n",
    "        ON movies.id = roles.movieId\n",
    "    INNER JOIN artists \n",
    "        ON roles.actorId = artists.id\n",
    "    WHERE lastname = \"Depp\";\n",
    "'''\n",
    "\n",
    "Q7 = pd.read_sql_query(sql_query_07, engine)\n",
    "Q7.head()"
   ]
  },
  {
   "cell_type": "markdown",
   "metadata": {},
   "source": [
    "Q08: Quels sont les films dans lesquels a joué Woody Allen ? Donnez aussi le rôle."
   ]
  },
  {
   "cell_type": "code",
   "execution_count": 85,
   "metadata": {},
   "outputs": [
    {
     "data": {
      "text/html": [
       "<div>\n",
       "<style scoped>\n",
       "    .dataframe tbody tr th:only-of-type {\n",
       "        vertical-align: middle;\n",
       "    }\n",
       "\n",
       "    .dataframe tbody tr th {\n",
       "        vertical-align: top;\n",
       "    }\n",
       "\n",
       "    .dataframe thead th {\n",
       "        text-align: right;\n",
       "    }\n",
       "</style>\n",
       "<table border=\"1\" class=\"dataframe\">\n",
       "  <thead>\n",
       "    <tr style=\"text-align: right;\">\n",
       "      <th></th>\n",
       "      <th>title</th>\n",
       "      <th>lastname</th>\n",
       "      <th>firstname</th>\n",
       "      <th>character</th>\n",
       "    </tr>\n",
       "  </thead>\n",
       "  <tbody>\n",
       "    <tr>\n",
       "      <th>0</th>\n",
       "      <td>Scoop</td>\n",
       "      <td>Allen</td>\n",
       "      <td>Woody</td>\n",
       "      <td>Sid Waterman</td>\n",
       "    </tr>\n",
       "    <tr>\n",
       "      <th>1</th>\n",
       "      <td>Manhattan</td>\n",
       "      <td>Allen</td>\n",
       "      <td>Woody</td>\n",
       "      <td>Isaac Davis</td>\n",
       "    </tr>\n",
       "    <tr>\n",
       "      <th>2</th>\n",
       "      <td>Annie Hall</td>\n",
       "      <td>Allen</td>\n",
       "      <td>Woody</td>\n",
       "      <td>Alvy Singer</td>\n",
       "    </tr>\n",
       "    <tr>\n",
       "      <th>3</th>\n",
       "      <td>Maris et femmes</td>\n",
       "      <td>Allen</td>\n",
       "      <td>Woody</td>\n",
       "      <td>Prof. Gabriel 'Gabe' Roth</td>\n",
       "    </tr>\n",
       "  </tbody>\n",
       "</table>\n",
       "</div>"
      ],
      "text/plain": [
       "             title lastname firstname                  character\n",
       "0            Scoop    Allen     Woody               Sid Waterman\n",
       "1        Manhattan    Allen     Woody                Isaac Davis\n",
       "2       Annie Hall    Allen     Woody                Alvy Singer\n",
       "3  Maris et femmes    Allen     Woody  Prof. Gabriel 'Gabe' Roth"
      ]
     },
     "execution_count": 85,
     "metadata": {},
     "output_type": "execute_result"
    }
   ],
   "source": [
    "sql_query_08 = \"\"\"\n",
    "    SELECT title, lastname, firstname, roles.character \n",
    "    FROM movies\n",
    "    INNER JOIN roles\n",
    "        ON movies.id = roles.movieId\n",
    "    INNER JOIN artists\n",
    "        ON roles.actorId = artists.id\n",
    "    WHERE lastname = \"Allen\" AND firstname = \"Woody\";\n",
    "\"\"\"\n",
    "\n",
    "Q8 = pd.read_sql_query(sql_query_08, engine)\n",
    "Q8.head()"
   ]
  },
  {
   "cell_type": "markdown",
   "metadata": {},
   "source": [
    "Q09: Quel metteur en scène a tourné dans ses propres films ? Donnez le nom, le rôle et le titre des films en question."
   ]
  },
  {
   "cell_type": "code",
   "execution_count": 77,
   "metadata": {},
   "outputs": [
    {
     "data": {
      "text/html": [
       "<div>\n",
       "<style scoped>\n",
       "    .dataframe tbody tr th:only-of-type {\n",
       "        vertical-align: middle;\n",
       "    }\n",
       "\n",
       "    .dataframe tbody tr th {\n",
       "        vertical-align: top;\n",
       "    }\n",
       "\n",
       "    .dataframe thead th {\n",
       "        text-align: right;\n",
       "    }\n",
       "</style>\n",
       "<table border=\"1\" class=\"dataframe\">\n",
       "  <thead>\n",
       "    <tr style=\"text-align: right;\">\n",
       "      <th></th>\n",
       "      <th>lastname</th>\n",
       "      <th>firstname</th>\n",
       "      <th>title</th>\n",
       "      <th>character</th>\n",
       "    </tr>\n",
       "  </thead>\n",
       "  <tbody>\n",
       "    <tr>\n",
       "      <th>0</th>\n",
       "      <td>Eastwood</td>\n",
       "      <td>Clint</td>\n",
       "      <td>Impitoyable</td>\n",
       "      <td>Bill Munny</td>\n",
       "    </tr>\n",
       "    <tr>\n",
       "      <th>1</th>\n",
       "      <td>Tarantino</td>\n",
       "      <td>Quentin</td>\n",
       "      <td>Reservoir Dogs</td>\n",
       "      <td>Mr. Brown</td>\n",
       "    </tr>\n",
       "    <tr>\n",
       "      <th>2</th>\n",
       "      <td>Allen</td>\n",
       "      <td>Woody</td>\n",
       "      <td>Scoop</td>\n",
       "      <td>Sid Waterman</td>\n",
       "    </tr>\n",
       "    <tr>\n",
       "      <th>3</th>\n",
       "      <td>Tarantino</td>\n",
       "      <td>Quentin</td>\n",
       "      <td>Pulp Fiction</td>\n",
       "      <td>Jimmie Dimmick</td>\n",
       "    </tr>\n",
       "    <tr>\n",
       "      <th>4</th>\n",
       "      <td>Allen</td>\n",
       "      <td>Woody</td>\n",
       "      <td>Manhattan</td>\n",
       "      <td>Isaac Davis</td>\n",
       "    </tr>\n",
       "  </tbody>\n",
       "</table>\n",
       "</div>"
      ],
      "text/plain": [
       "    lastname firstname           title       character\n",
       "0   Eastwood     Clint     Impitoyable      Bill Munny\n",
       "1  Tarantino   Quentin  Reservoir Dogs       Mr. Brown\n",
       "2      Allen     Woody           Scoop    Sid Waterman\n",
       "3  Tarantino   Quentin    Pulp Fiction  Jimmie Dimmick\n",
       "4      Allen     Woody       Manhattan     Isaac Davis"
      ]
     },
     "execution_count": 77,
     "metadata": {},
     "output_type": "execute_result"
    }
   ],
   "source": [
    "sql_query_09 = \"\"\"\n",
    "    \n",
    "    SELECT lastname, firstname, title, roles.character \n",
    "    FROM movies\n",
    "    INNER JOIN roles \n",
    "        ON movies.id = roles.movieId\n",
    "    INNER JOIN artists \n",
    "        ON roles.actorId = artists.id\n",
    "    WHERE movies.directorId = roles.actorId;\n",
    "\"\"\"\n",
    "\n",
    "Q9 = pd.read_sql_query(sql_query_09, engine)\n",
    "Q9.head()"
   ]
  },
  {
   "cell_type": "markdown",
   "metadata": {},
   "source": [
    "Q10: Quels sont les films de Quentin Tarantino dans lesquels il n’a pas joué "
   ]
  },
  {
   "cell_type": "code",
   "execution_count": 82,
   "metadata": {},
   "outputs": [
    {
     "data": {
      "text/html": [
       "<div>\n",
       "<style scoped>\n",
       "    .dataframe tbody tr th:only-of-type {\n",
       "        vertical-align: middle;\n",
       "    }\n",
       "\n",
       "    .dataframe tbody tr th {\n",
       "        vertical-align: top;\n",
       "    }\n",
       "\n",
       "    .dataframe thead th {\n",
       "        text-align: right;\n",
       "    }\n",
       "</style>\n",
       "<table border=\"1\" class=\"dataframe\">\n",
       "  <thead>\n",
       "    <tr style=\"text-align: right;\">\n",
       "      <th></th>\n",
       "      <th>Titre des films</th>\n",
       "    </tr>\n",
       "  </thead>\n",
       "  <tbody>\n",
       "    <tr>\n",
       "      <th>0</th>\n",
       "      <td>Kill Bill : Volume 1</td>\n",
       "    </tr>\n",
       "    <tr>\n",
       "      <th>1</th>\n",
       "      <td>Jackie Brown</td>\n",
       "    </tr>\n",
       "    <tr>\n",
       "      <th>2</th>\n",
       "      <td>Kill Bill : Volume 2</td>\n",
       "    </tr>\n",
       "    <tr>\n",
       "      <th>3</th>\n",
       "      <td>Inglourious Basterds</td>\n",
       "    </tr>\n",
       "    <tr>\n",
       "      <th>4</th>\n",
       "      <td>Django Unchained</td>\n",
       "    </tr>\n",
       "  </tbody>\n",
       "</table>\n",
       "</div>"
      ],
      "text/plain": [
       "        Titre des films\n",
       "0  Kill Bill : Volume 1\n",
       "1          Jackie Brown\n",
       "2  Kill Bill : Volume 2\n",
       "3  Inglourious Basterds\n",
       "4      Django Unchained"
      ]
     },
     "execution_count": 82,
     "metadata": {},
     "output_type": "execute_result"
    }
   ],
   "source": [
    "sql_query_10 = \"\"\"\n",
    "    SELECT a.title as \"Titre des films\"\n",
    "      FROM movies AS a\n",
    "      INNER JOIN artists ON a.directorId = artists.id\n",
    "      WHERE lastname = \"Tarantino\"\n",
    "      AND title NOT IN (\n",
    "        SELECT b.title \n",
    "        FROM movies AS b\n",
    "        INNER JOIN roles ON b.id = roles.movieId\n",
    "        INNER JOIN artists ON roles.actorId = artists.id\n",
    "        WHERE lastname = \"Tarantino\")\n",
    "\"\"\"\n",
    "\n",
    "Q10 = pd.read_sql_query(sql_query_10, engine)\n",
    "Q10.head()"
   ]
  },
  {
   "cell_type": "markdown",
   "metadata": {},
   "source": [
    "Q11: Quel metteur en scène a tourné en tant qu’acteur ? Donner le nom, le rôle et le titre des films dans lesquels cet artiste a joué."
   ]
  },
  {
   "cell_type": "code",
   "execution_count": 80,
   "metadata": {},
   "outputs": [
    {
     "data": {
      "text/html": [
       "<div>\n",
       "<style scoped>\n",
       "    .dataframe tbody tr th:only-of-type {\n",
       "        vertical-align: middle;\n",
       "    }\n",
       "\n",
       "    .dataframe tbody tr th {\n",
       "        vertical-align: top;\n",
       "    }\n",
       "\n",
       "    .dataframe thead th {\n",
       "        text-align: right;\n",
       "    }\n",
       "</style>\n",
       "<table border=\"1\" class=\"dataframe\">\n",
       "  <thead>\n",
       "    <tr style=\"text-align: right;\">\n",
       "      <th></th>\n",
       "      <th>lastname</th>\n",
       "      <th>character</th>\n",
       "      <th>title</th>\n",
       "    </tr>\n",
       "  </thead>\n",
       "  <tbody>\n",
       "    <tr>\n",
       "      <th>0</th>\n",
       "      <td>Eastwood</td>\n",
       "      <td>Bill Munny</td>\n",
       "      <td>Impitoyable</td>\n",
       "    </tr>\n",
       "    <tr>\n",
       "      <th>1</th>\n",
       "      <td>Tarantino</td>\n",
       "      <td>Mr. Brown</td>\n",
       "      <td>Reservoir Dogs</td>\n",
       "    </tr>\n",
       "    <tr>\n",
       "      <th>2</th>\n",
       "      <td>Allen</td>\n",
       "      <td>Sid Waterman</td>\n",
       "      <td>Scoop</td>\n",
       "    </tr>\n",
       "    <tr>\n",
       "      <th>3</th>\n",
       "      <td>Tarantino</td>\n",
       "      <td>Jimmie Dimmick</td>\n",
       "      <td>Pulp Fiction</td>\n",
       "    </tr>\n",
       "    <tr>\n",
       "      <th>4</th>\n",
       "      <td>Allen</td>\n",
       "      <td>Isaac Davis</td>\n",
       "      <td>Manhattan</td>\n",
       "    </tr>\n",
       "  </tbody>\n",
       "</table>\n",
       "</div>"
      ],
      "text/plain": [
       "    lastname       character           title\n",
       "0   Eastwood      Bill Munny     Impitoyable\n",
       "1  Tarantino       Mr. Brown  Reservoir Dogs\n",
       "2      Allen    Sid Waterman           Scoop\n",
       "3  Tarantino  Jimmie Dimmick    Pulp Fiction\n",
       "4      Allen     Isaac Davis       Manhattan"
      ]
     },
     "execution_count": 80,
     "metadata": {},
     "output_type": "execute_result"
    }
   ],
   "source": [
    "sql_query_11 = \"\"\"\n",
    "    SELECT lastname, roles.character, title \n",
    "    FROM movies\n",
    "    INNER JOIN artists ON movies.directorId = artists.id\n",
    "    INNER JOIN roles ON movies.id = roles.movieId\n",
    "    WHERE movies.directorId = roles.actorId;\n",
    "\"\"\"\n",
    "\n",
    "Q11 = pd.read_sql_query(sql_query_11, engine)\n",
    "Q11.head()"
   ]
  },
  {
   "cell_type": "markdown",
   "metadata": {},
   "source": [
    "Q12: Quels sont les films de Hitchcock sans James Stewart"
   ]
  },
  {
   "cell_type": "code",
   "execution_count": 89,
   "metadata": {},
   "outputs": [
    {
     "data": {
      "text/html": [
       "<div>\n",
       "<style scoped>\n",
       "    .dataframe tbody tr th:only-of-type {\n",
       "        vertical-align: middle;\n",
       "    }\n",
       "\n",
       "    .dataframe tbody tr th {\n",
       "        vertical-align: top;\n",
       "    }\n",
       "\n",
       "    .dataframe thead th {\n",
       "        text-align: right;\n",
       "    }\n",
       "</style>\n",
       "<table border=\"1\" class=\"dataframe\">\n",
       "  <thead>\n",
       "    <tr style=\"text-align: right;\">\n",
       "      <th></th>\n",
       "      <th>title</th>\n",
       "    </tr>\n",
       "  </thead>\n",
       "  <tbody>\n",
       "    <tr>\n",
       "      <th>0</th>\n",
       "      <td>La Mort aux trousses</td>\n",
       "    </tr>\n",
       "    <tr>\n",
       "      <th>1</th>\n",
       "      <td>Rebecca</td>\n",
       "    </tr>\n",
       "    <tr>\n",
       "      <th>2</th>\n",
       "      <td>Les Enchaînés</td>\n",
       "    </tr>\n",
       "    <tr>\n",
       "      <th>3</th>\n",
       "      <td>Psychose</td>\n",
       "    </tr>\n",
       "    <tr>\n",
       "      <th>4</th>\n",
       "      <td>Les Oiseaux</td>\n",
       "    </tr>\n",
       "  </tbody>\n",
       "</table>\n",
       "</div>"
      ],
      "text/plain": [
       "                  title\n",
       "0  La Mort aux trousses\n",
       "1               Rebecca\n",
       "2         Les Enchaînés\n",
       "3              Psychose\n",
       "4           Les Oiseaux"
      ]
     },
     "execution_count": 89,
     "metadata": {},
     "output_type": "execute_result"
    }
   ],
   "source": [
    "sql_query_12 = \"\"\"\n",
    "    SELECT a.title \n",
    "    FROM movies AS a\n",
    "    INNER JOIN artists \n",
    "        ON a.directorId = artists.id\n",
    "    WHERE lastname = \"Hitchcock\"\n",
    "    AND title NOT IN (\n",
    "      SELECT b.title \n",
    "      FROM movies AS b\n",
    "      INNER JOIN roles \n",
    "          ON b.id = roles.movieId\n",
    "      INNER JOIN artists \n",
    "          ON roles.actorId = artists.id\n",
    "      WHERE lastname = \"Stewart\")\n",
    "\"\"\"\n",
    "\n",
    "Q12 = pd.read_sql_query(sql_query_12, engine)\n",
    "Q12.head()"
   ]
  },
  {
   "cell_type": "markdown",
   "metadata": {},
   "source": [
    "Q13: Quel est la filmographie de James Stewart ?"
   ]
  },
  {
   "cell_type": "code",
   "execution_count": 90,
   "metadata": {},
   "outputs": [
    {
     "data": {
      "text/html": [
       "<div>\n",
       "<style scoped>\n",
       "    .dataframe tbody tr th:only-of-type {\n",
       "        vertical-align: middle;\n",
       "    }\n",
       "\n",
       "    .dataframe tbody tr th {\n",
       "        vertical-align: top;\n",
       "    }\n",
       "\n",
       "    .dataframe thead th {\n",
       "        text-align: right;\n",
       "    }\n",
       "</style>\n",
       "<table border=\"1\" class=\"dataframe\">\n",
       "  <thead>\n",
       "    <tr style=\"text-align: right;\">\n",
       "      <th></th>\n",
       "      <th>title</th>\n",
       "    </tr>\n",
       "  </thead>\n",
       "  <tbody>\n",
       "    <tr>\n",
       "      <th>0</th>\n",
       "      <td>Sueurs froides</td>\n",
       "    </tr>\n",
       "    <tr>\n",
       "      <th>1</th>\n",
       "      <td>Fenêtre sur cour</td>\n",
       "    </tr>\n",
       "    <tr>\n",
       "      <th>2</th>\n",
       "      <td>L'homme qui en savait trop</td>\n",
       "    </tr>\n",
       "  </tbody>\n",
       "</table>\n",
       "</div>"
      ],
      "text/plain": [
       "                        title\n",
       "0              Sueurs froides\n",
       "1            Fenêtre sur cour\n",
       "2  L'homme qui en savait trop"
      ]
     },
     "execution_count": 90,
     "metadata": {},
     "output_type": "execute_result"
    }
   ],
   "source": [
    "sql_query_13 = '''\n",
    "    SELECT title\n",
    "    FROM movies\n",
    "    INNER JOIN roles\n",
    "        ON movies.id = roles.movieId\n",
    "    INNER JOIN artists\n",
    "        ON roles.actorId = artists.id\n",
    "    WHERE lastname = 'Stewart' AND firstname = 'James';\n",
    "'''\n",
    "\n",
    "Q13 = pd.read_sql_query(sql_query_13, engine)\n",
    "Q13.head()"
   ]
  },
  {
   "cell_type": "markdown",
   "metadata": {},
   "source": [
    "Q14: Quels sont les films sans rôle (acteurs) ?"
   ]
  },
  {
   "cell_type": "code",
   "execution_count": 92,
   "metadata": {},
   "outputs": [
    {
     "data": {
      "text/html": [
       "<div>\n",
       "<style scoped>\n",
       "    .dataframe tbody tr th:only-of-type {\n",
       "        vertical-align: middle;\n",
       "    }\n",
       "\n",
       "    .dataframe tbody tr th {\n",
       "        vertical-align: top;\n",
       "    }\n",
       "\n",
       "    .dataframe thead th {\n",
       "        text-align: right;\n",
       "    }\n",
       "</style>\n",
       "<table border=\"1\" class=\"dataframe\">\n",
       "  <thead>\n",
       "    <tr style=\"text-align: right;\">\n",
       "      <th></th>\n",
       "      <th>title</th>\n",
       "    </tr>\n",
       "  </thead>\n",
       "  <tbody>\n",
       "  </tbody>\n",
       "</table>\n",
       "</div>"
      ],
      "text/plain": [
       "Empty DataFrame\n",
       "Columns: [title]\n",
       "Index: []"
      ]
     },
     "execution_count": 92,
     "metadata": {},
     "output_type": "execute_result"
    }
   ],
   "source": [
    "sql_query_14 = '''\n",
    "    SELECT title\n",
    "    FROM movies\n",
    "    INNER JOIN roles\n",
    "        ON movies.id = roles.movieId\n",
    "    WHERE actorId = NULL;  \n",
    "    \n",
    "'''\n",
    "#Je sèche sur celle la\n",
    "\n",
    "Q14 = pd.read_sql_query(sql_query_14, engine)\n",
    "Q14.head()"
   ]
  },
  {
   "cell_type": "markdown",
   "metadata": {},
   "source": [
    "Q15: Combien d'acteurs n’ont jamais réalisé de film ? "
   ]
  },
  {
   "cell_type": "code",
   "execution_count": 106,
   "metadata": {},
   "outputs": [
    {
     "data": {
      "text/html": [
       "<div>\n",
       "<style scoped>\n",
       "    .dataframe tbody tr th:only-of-type {\n",
       "        vertical-align: middle;\n",
       "    }\n",
       "\n",
       "    .dataframe tbody tr th {\n",
       "        vertical-align: top;\n",
       "    }\n",
       "\n",
       "    .dataframe thead th {\n",
       "        text-align: right;\n",
       "    }\n",
       "</style>\n",
       "<table border=\"1\" class=\"dataframe\">\n",
       "  <thead>\n",
       "    <tr style=\"text-align: right;\">\n",
       "      <th></th>\n",
       "      <th>id</th>\n",
       "      <th>lastname</th>\n",
       "      <th>firstname</th>\n",
       "      <th>birthyear</th>\n",
       "      <th>id</th>\n",
       "      <th>title</th>\n",
       "      <th>year</th>\n",
       "      <th>directorId</th>\n",
       "      <th>genre</th>\n",
       "      <th>summary</th>\n",
       "      <th>countrycode</th>\n",
       "    </tr>\n",
       "  </thead>\n",
       "  <tbody>\n",
       "    <tr>\n",
       "      <th>0</th>\n",
       "      <td>2</td>\n",
       "      <td>Hamill</td>\n",
       "      <td>Mark</td>\n",
       "      <td>1951.0</td>\n",
       "      <td>None</td>\n",
       "      <td>None</td>\n",
       "      <td>None</td>\n",
       "      <td>None</td>\n",
       "      <td>None</td>\n",
       "      <td>None</td>\n",
       "      <td>None</td>\n",
       "    </tr>\n",
       "    <tr>\n",
       "      <th>1</th>\n",
       "      <td>3</td>\n",
       "      <td>Ford</td>\n",
       "      <td>Harrison</td>\n",
       "      <td>1942.0</td>\n",
       "      <td>None</td>\n",
       "      <td>None</td>\n",
       "      <td>None</td>\n",
       "      <td>None</td>\n",
       "      <td>None</td>\n",
       "      <td>None</td>\n",
       "      <td>None</td>\n",
       "    </tr>\n",
       "    <tr>\n",
       "      <th>2</th>\n",
       "      <td>4</td>\n",
       "      <td>Fisher</td>\n",
       "      <td>Carrie</td>\n",
       "      <td>1956.0</td>\n",
       "      <td>None</td>\n",
       "      <td>None</td>\n",
       "      <td>None</td>\n",
       "      <td>None</td>\n",
       "      <td>None</td>\n",
       "      <td>None</td>\n",
       "      <td>None</td>\n",
       "    </tr>\n",
       "    <tr>\n",
       "      <th>3</th>\n",
       "      <td>5</td>\n",
       "      <td>Cushing</td>\n",
       "      <td>Peter</td>\n",
       "      <td>1913.0</td>\n",
       "      <td>None</td>\n",
       "      <td>None</td>\n",
       "      <td>None</td>\n",
       "      <td>None</td>\n",
       "      <td>None</td>\n",
       "      <td>None</td>\n",
       "      <td>None</td>\n",
       "    </tr>\n",
       "    <tr>\n",
       "      <th>4</th>\n",
       "      <td>6</td>\n",
       "      <td>Daniels</td>\n",
       "      <td>Anthony</td>\n",
       "      <td>1946.0</td>\n",
       "      <td>None</td>\n",
       "      <td>None</td>\n",
       "      <td>None</td>\n",
       "      <td>None</td>\n",
       "      <td>None</td>\n",
       "      <td>None</td>\n",
       "      <td>None</td>\n",
       "    </tr>\n",
       "  </tbody>\n",
       "</table>\n",
       "</div>"
      ],
      "text/plain": [
       "  id lastname firstname  birthyear    id title  year directorId genre summary  \\\n",
       "0  2   Hamill      Mark     1951.0  None  None  None       None  None    None   \n",
       "1  3     Ford  Harrison     1942.0  None  None  None       None  None    None   \n",
       "2  4   Fisher    Carrie     1956.0  None  None  None       None  None    None   \n",
       "3  5  Cushing     Peter     1913.0  None  None  None       None  None    None   \n",
       "4  6  Daniels   Anthony     1946.0  None  None  None       None  None    None   \n",
       "\n",
       "  countrycode  \n",
       "0        None  \n",
       "1        None  \n",
       "2        None  \n",
       "3        None  \n",
       "4        None  "
      ]
     },
     "execution_count": 106,
     "metadata": {},
     "output_type": "execute_result"
    }
   ],
   "source": [
    "sql_query_15 = '''\n",
    "    \n",
    "    SELECT *\n",
    "    FROM artists\n",
    "    LEFT JOIN movies \n",
    "        ON artists.id = movies.directorId\n",
    "    WHERE movies.directorId IS NULL;\n",
    "    \n",
    "'''\n",
    "\n",
    "Q15 = pd.read_sql_query(sql_query_15, engine)\n",
    "Q15.head()"
   ]
  },
  {
   "cell_type": "code",
   "execution_count": 107,
   "metadata": {},
   "outputs": [
    {
     "data": {
      "text/plain": [
       "987"
      ]
     },
     "execution_count": 107,
     "metadata": {},
     "output_type": "execute_result"
    }
   ],
   "source": [
    "len(Q15)"
   ]
  },
  {
   "cell_type": "markdown",
   "metadata": {},
   "source": [
    "Q16: Donnez les noms et prénoms des 10 réalisateurs les plus prolifiques, ainsi que le nombre de films qu’ils ont tournés ?"
   ]
  },
  {
   "cell_type": "code",
   "execution_count": null,
   "metadata": {},
   "outputs": [],
   "source": []
  },
  {
   "cell_type": "markdown",
   "metadata": {},
   "source": [
    "Q17: Donnez les noms et prénoms des réalisateurs qui ont tourné au moins deux films. Combien sont-ils ?"
   ]
  },
  {
   "cell_type": "code",
   "execution_count": null,
   "metadata": {},
   "outputs": [],
   "source": []
  },
  {
   "cell_type": "markdown",
   "metadata": {},
   "source": [
    "Q18: Dans quels films le réalisateur a-t-il le même prénom que l’un des interprètes ? (titre, nom du réalisateur, nom de l’interprète). Le réalisateur et l’interprète ne doivent pas être la même personne."
   ]
  },
  {
   "cell_type": "code",
   "execution_count": null,
   "metadata": {},
   "outputs": [],
   "source": []
  },
  {
   "cell_type": "markdown",
   "metadata": {},
   "source": [
    "Q19: Quels sont les 10 pays produisant le plus de films ?"
   ]
  },
  {
   "cell_type": "code",
   "execution_count": null,
   "metadata": {},
   "outputs": [],
   "source": []
  },
  {
   "cell_type": "markdown",
   "metadata": {},
   "source": [
    "Q20: Quels sont les 5 acteurs ayant le plus joué dans des films français ?"
   ]
  },
  {
   "cell_type": "code",
   "execution_count": null,
   "metadata": {},
   "outputs": [],
   "source": []
  },
  {
   "cell_type": "markdown",
   "metadata": {},
   "source": [
    "---\n",
    "\n",
    "## 3. Expression libre\n",
    "\n",
    "A vous de jouer ! Tentez quelques requêtes de votre choix (avec pourquoi pas quelques graphiques illustratifs en utilisant Matplotlib...)"
   ]
  },
  {
   "cell_type": "code",
   "execution_count": null,
   "metadata": {},
   "outputs": [],
   "source": []
  },
  {
   "cell_type": "code",
   "execution_count": null,
   "metadata": {},
   "outputs": [],
   "source": []
  },
  {
   "cell_type": "code",
   "execution_count": null,
   "metadata": {},
   "outputs": [],
   "source": []
  }
 ],
 "metadata": {
  "kernelspec": {
   "display_name": "Python 3",
   "language": "python",
   "name": "python3"
  },
  "language_info": {
   "codemirror_mode": {
    "name": "ipython",
    "version": 3
   },
   "file_extension": ".py",
   "mimetype": "text/x-python",
   "name": "python",
   "nbconvert_exporter": "python",
   "pygments_lexer": "ipython3",
   "version": "3.8.6"
  }
 },
 "nbformat": 4,
 "nbformat_minor": 4
}
